{
 "cells": [
  {
   "cell_type": "markdown",
   "metadata": {},
   "source": [
    "# Cientista RS\n",
    "\n",
    "## Ler Dados\n",
    "\n",
    "Primeiro usamos o notebook"
   ]
  },
  {
   "cell_type": "code",
   "execution_count": 1,
   "metadata": {},
   "outputs": [],
   "source": [
    "#%run LimpandoBD.ipynb"
   ]
  },
  {
   "cell_type": "markdown",
   "metadata": {},
   "source": [
    "Depois utilizamos os modulos"
   ]
  },
  {
   "cell_type": "code",
   "execution_count": 2,
   "metadata": {},
   "outputs": [],
   "source": [
    "from sklearn import linear_model,model_selection\n",
    "import pandas as pd"
   ]
  },
  {
   "cell_type": "code",
   "execution_count": 3,
   "metadata": {},
   "outputs": [
    {
     "name": "stdout",
     "output_type": "stream",
     "text": [
      "         CRIM    ZN  INDUS  CHAS    NOX     RM    AGE     DIS  RAD  TAX  \\\n",
      "0     0.00632  18.0   2.31     0  0.538  6.575   65.2  4.0900    1  296   \n",
      "1     0.00906  90.0   2.97     0  0.400  7.088   20.8  7.3073    1  285   \n",
      "2     0.01096  55.0   2.25     0  0.389  6.453   31.9  7.3073    1  300   \n",
      "3     0.01301  35.0   1.52     0  0.442  7.241   49.3  7.0379    1  284   \n",
      "4     0.01311  90.0   1.22     0  0.403  7.249   21.9  8.6966    5  226   \n",
      "..        ...   ...    ...   ...    ...    ...    ...     ...  ...  ...   \n",
      "506  45.74610   0.0  18.10     0  0.693  4.519  100.0  1.6582   24  666   \n",
      "507  51.13580   0.0  18.10     0  0.597  5.757  100.0  1.4130   24  666   \n",
      "508  67.92080   0.0  18.10     0  0.693  5.683  100.0  1.4254   24  666   \n",
      "509  73.53410   0.0  18.10     0  0.679  5.957  100.0  1.8026   24  666   \n",
      "510  88.97620   0.0  18.10     0  0.671  6.968   91.9  1.4165   24  666   \n",
      "\n",
      "     PTRATIO       B  LSTAT  MEDV  \n",
      "0       15.3  396.90   4.98  24.0  \n",
      "1       15.3  394.72   7.85  32.2  \n",
      "2       15.3  394.72   8.23  22.0  \n",
      "3       15.5  394.74   5.49  32.7  \n",
      "4       17.9  395.93   4.81  35.4  \n",
      "..       ...     ...    ...   ...  \n",
      "506     20.2   88.27  36.98   7.0  \n",
      "507     20.2    2.60  10.11  15.0  \n",
      "508     20.2  384.97  22.98   5.0  \n",
      "509     20.2   16.45  20.62   8.8  \n",
      "510     20.2  396.90  17.21  10.4  \n",
      "\n",
      "[506 rows x 14 columns]\n"
     ]
    }
   ],
   "source": [
    "import RealStateLimp\n",
    "\n",
    "df = RealStateLimp.limpeza()"
   ]
  },
  {
   "cell_type": "markdown",
   "metadata": {},
   "source": [
    "## Analise de Dados"
   ]
  },
  {
   "cell_type": "code",
   "execution_count": 4,
   "metadata": {},
   "outputs": [
    {
     "name": "stdout",
     "output_type": "stream",
     "text": [
      "<class 'pandas.core.frame.DataFrame'>\n",
      "Int64Index: 506 entries, 0 to 510\n",
      "Data columns (total 14 columns):\n",
      " #   Column   Non-Null Count  Dtype  \n",
      "---  ------   --------------  -----  \n",
      " 0   CRIM     506 non-null    float64\n",
      " 1   ZN       506 non-null    float64\n",
      " 2   INDUS    506 non-null    float64\n",
      " 3   CHAS     506 non-null    int32  \n",
      " 4   NOX      506 non-null    float64\n",
      " 5   RM       506 non-null    float64\n",
      " 6   AGE      506 non-null    float64\n",
      " 7   DIS      506 non-null    float64\n",
      " 8   RAD      506 non-null    int64  \n",
      " 9   TAX      506 non-null    int64  \n",
      " 10  PTRATIO  506 non-null    float64\n",
      " 11  B        506 non-null    float64\n",
      " 12  LSTAT    506 non-null    float64\n",
      " 13  MEDV     506 non-null    float64\n",
      "dtypes: float64(11), int32(1), int64(2)\n",
      "memory usage: 57.3 KB\n"
     ]
    }
   ],
   "source": [
    "df.info()"
   ]
  },
  {
   "cell_type": "markdown",
   "metadata": {},
   "source": [
    "\n",
    "### Significado de cada Coluna\n",
    "Pesquisando um pouco cada variável, pode-se ver que o bancos de dados se trata de comparar alguns fatores com o valor médio das residências em surbúbios de Boston:\n",
    "\n",
    "CRIM -> Taxa de criminalidade\n",
    "\n",
    "ZN -> proporção de terrenos residenciais zoneados para lotes com mais de 25.000 pés quadrados\n",
    "\n",
    "INDUS -> Proporção de industrias\n",
    "\n",
    "CHAS -> se há(T) ou não(F) rio limitando\n",
    "\n",
    "NOX -> Concentração de Oxido Nitrico(em partes por $10^7$)\n",
    "\n",
    "RM -> Media de quartos por residencias\n",
    "\n",
    "AGE -> Proporção de unidades ocupadas pelo proprietário construídas antes de 1940\n",
    "\n",
    "DIS -> Distancia ate o emprego\n",
    "\n",
    "RAD -> Índice de acessibilidade a rodovias radiais\n",
    "\n",
    "TAX -> Taxa de imposto sobre a propriedade\n",
    "\n",
    "PTRATIO -> $\\dfrac{ALUNO}{PROFESSOR}$\n",
    "\n",
    "B -> Proporção de negros\n",
    "\n",
    "LSTAT -> Status inferior da População\n",
    "\n",
    "MEDV -> Valor medio das casas\n",
    "\n",
    "## Dados estatistico do Banco"
   ]
  },
  {
   "cell_type": "code",
   "execution_count": 5,
   "metadata": {},
   "outputs": [
    {
     "data": {
      "text/html": [
       "<div>\n",
       "<style scoped>\n",
       "    .dataframe tbody tr th:only-of-type {\n",
       "        vertical-align: middle;\n",
       "    }\n",
       "\n",
       "    .dataframe tbody tr th {\n",
       "        vertical-align: top;\n",
       "    }\n",
       "\n",
       "    .dataframe thead th {\n",
       "        text-align: right;\n",
       "    }\n",
       "</style>\n",
       "<table border=\"1\" class=\"dataframe\">\n",
       "  <thead>\n",
       "    <tr style=\"text-align: right;\">\n",
       "      <th></th>\n",
       "      <th>CRIM</th>\n",
       "      <th>ZN</th>\n",
       "      <th>INDUS</th>\n",
       "      <th>CHAS</th>\n",
       "      <th>NOX</th>\n",
       "      <th>RM</th>\n",
       "      <th>AGE</th>\n",
       "      <th>DIS</th>\n",
       "      <th>RAD</th>\n",
       "      <th>TAX</th>\n",
       "      <th>PTRATIO</th>\n",
       "      <th>B</th>\n",
       "      <th>LSTAT</th>\n",
       "      <th>MEDV</th>\n",
       "    </tr>\n",
       "  </thead>\n",
       "  <tbody>\n",
       "    <tr>\n",
       "      <th>mean</th>\n",
       "      <td>3.617404</td>\n",
       "      <td>11.289526</td>\n",
       "      <td>11.174842</td>\n",
       "      <td>0.069170</td>\n",
       "      <td>0.555209</td>\n",
       "      <td>6.287589</td>\n",
       "      <td>68.555731</td>\n",
       "      <td>3.775231</td>\n",
       "      <td>9.531621</td>\n",
       "      <td>408.330040</td>\n",
       "      <td>18.498419</td>\n",
       "      <td>356.228379</td>\n",
       "      <td>12.872569</td>\n",
       "      <td>22.711858</td>\n",
       "    </tr>\n",
       "    <tr>\n",
       "      <th>std</th>\n",
       "      <td>8.600123</td>\n",
       "      <td>23.325350</td>\n",
       "      <td>6.824592</td>\n",
       "      <td>0.253994</td>\n",
       "      <td>0.115611</td>\n",
       "      <td>0.703802</td>\n",
       "      <td>28.161573</td>\n",
       "      <td>2.096147</td>\n",
       "      <td>8.716661</td>\n",
       "      <td>168.382685</td>\n",
       "      <td>2.202078</td>\n",
       "      <td>91.253462</td>\n",
       "      <td>7.823528</td>\n",
       "      <td>9.520520</td>\n",
       "    </tr>\n",
       "    <tr>\n",
       "      <th>min</th>\n",
       "      <td>0.006320</td>\n",
       "      <td>0.000000</td>\n",
       "      <td>0.460000</td>\n",
       "      <td>0.000000</td>\n",
       "      <td>0.385000</td>\n",
       "      <td>3.561000</td>\n",
       "      <td>2.900000</td>\n",
       "      <td>1.129600</td>\n",
       "      <td>1.000000</td>\n",
       "      <td>187.000000</td>\n",
       "      <td>12.600000</td>\n",
       "      <td>0.320000</td>\n",
       "      <td>1.730000</td>\n",
       "      <td>5.000000</td>\n",
       "    </tr>\n",
       "    <tr>\n",
       "      <th>25%</th>\n",
       "      <td>0.082268</td>\n",
       "      <td>0.000000</td>\n",
       "      <td>5.190000</td>\n",
       "      <td>0.000000</td>\n",
       "      <td>0.449000</td>\n",
       "      <td>5.885500</td>\n",
       "      <td>45.025000</td>\n",
       "      <td>2.098500</td>\n",
       "      <td>4.000000</td>\n",
       "      <td>280.250000</td>\n",
       "      <td>17.400000</td>\n",
       "      <td>374.687500</td>\n",
       "      <td>6.950000</td>\n",
       "      <td>17.025000</td>\n",
       "    </tr>\n",
       "    <tr>\n",
       "      <th>50%</th>\n",
       "      <td>0.266005</td>\n",
       "      <td>0.000000</td>\n",
       "      <td>9.690000</td>\n",
       "      <td>0.000000</td>\n",
       "      <td>0.538000</td>\n",
       "      <td>6.209000</td>\n",
       "      <td>77.500000</td>\n",
       "      <td>3.122200</td>\n",
       "      <td>5.000000</td>\n",
       "      <td>330.000000</td>\n",
       "      <td>19.100000</td>\n",
       "      <td>391.260000</td>\n",
       "      <td>11.465000</td>\n",
       "      <td>21.200000</td>\n",
       "    </tr>\n",
       "    <tr>\n",
       "      <th>75%</th>\n",
       "      <td>3.677083</td>\n",
       "      <td>12.500000</td>\n",
       "      <td>18.100000</td>\n",
       "      <td>0.000000</td>\n",
       "      <td>0.624000</td>\n",
       "      <td>6.629750</td>\n",
       "      <td>93.975000</td>\n",
       "      <td>5.117675</td>\n",
       "      <td>24.000000</td>\n",
       "      <td>666.000000</td>\n",
       "      <td>20.200000</td>\n",
       "      <td>396.210000</td>\n",
       "      <td>17.107500</td>\n",
       "      <td>25.075000</td>\n",
       "    </tr>\n",
       "    <tr>\n",
       "      <th>max</th>\n",
       "      <td>88.976200</td>\n",
       "      <td>100.000000</td>\n",
       "      <td>27.740000</td>\n",
       "      <td>1.000000</td>\n",
       "      <td>0.871000</td>\n",
       "      <td>8.780000</td>\n",
       "      <td>100.000000</td>\n",
       "      <td>12.126500</td>\n",
       "      <td>24.000000</td>\n",
       "      <td>711.000000</td>\n",
       "      <td>23.000000</td>\n",
       "      <td>396.900000</td>\n",
       "      <td>76.000000</td>\n",
       "      <td>67.000000</td>\n",
       "    </tr>\n",
       "  </tbody>\n",
       "</table>\n",
       "</div>"
      ],
      "text/plain": [
       "           CRIM          ZN      INDUS      CHAS       NOX        RM  \\\n",
       "mean   3.617404   11.289526  11.174842  0.069170  0.555209  6.287589   \n",
       "std    8.600123   23.325350   6.824592  0.253994  0.115611  0.703802   \n",
       "min    0.006320    0.000000   0.460000  0.000000  0.385000  3.561000   \n",
       "25%    0.082268    0.000000   5.190000  0.000000  0.449000  5.885500   \n",
       "50%    0.266005    0.000000   9.690000  0.000000  0.538000  6.209000   \n",
       "75%    3.677083   12.500000  18.100000  0.000000  0.624000  6.629750   \n",
       "max   88.976200  100.000000  27.740000  1.000000  0.871000  8.780000   \n",
       "\n",
       "             AGE        DIS        RAD         TAX    PTRATIO           B  \\\n",
       "mean   68.555731   3.775231   9.531621  408.330040  18.498419  356.228379   \n",
       "std    28.161573   2.096147   8.716661  168.382685   2.202078   91.253462   \n",
       "min     2.900000   1.129600   1.000000  187.000000  12.600000    0.320000   \n",
       "25%    45.025000   2.098500   4.000000  280.250000  17.400000  374.687500   \n",
       "50%    77.500000   3.122200   5.000000  330.000000  19.100000  391.260000   \n",
       "75%    93.975000   5.117675  24.000000  666.000000  20.200000  396.210000   \n",
       "max   100.000000  12.126500  24.000000  711.000000  23.000000  396.900000   \n",
       "\n",
       "          LSTAT       MEDV  \n",
       "mean  12.872569  22.711858  \n",
       "std    7.823528   9.520520  \n",
       "min    1.730000   5.000000  \n",
       "25%    6.950000  17.025000  \n",
       "50%   11.465000  21.200000  \n",
       "75%   17.107500  25.075000  \n",
       "max   76.000000  67.000000  "
      ]
     },
     "execution_count": 5,
     "metadata": {},
     "output_type": "execute_result"
    }
   ],
   "source": [
    "dfcribe = df.describe()\n",
    "dfcribe[1:8].head(7)"
   ]
  },
  {
   "cell_type": "code",
   "execution_count": 6,
   "metadata": {},
   "outputs": [
    {
     "name": "stdout",
     "output_type": "stream",
     "text": [
      "383     3.67367\n",
      "384     3.67822\n",
      "385     3.69311\n",
      "386     3.69695\n",
      "387     3.77498\n",
      "         ...   \n",
      "506    45.74610\n",
      "507    51.13580\n",
      "508    67.92080\n",
      "509    73.53410\n",
      "510    88.97620\n",
      "Name: CRIM, Length: 128, dtype: float64\n"
     ]
    }
   ],
   "source": [
    "print(df['CRIM'][df['CRIM']>df[\"CRIM\"].mean()])"
   ]
  },
  {
   "cell_type": "markdown",
   "metadata": {},
   "source": [
    "Juntando a descrição de cada dados com as informações adicionais coletadas mais acima, podem aparecer várias dúvidas."
   ]
  },
  {
   "cell_type": "markdown",
   "metadata": {},
   "source": [
    "## Perguntas\n",
    "\n",
    "### 1. Existe índicios de correlação entre o índice de Óxido Nítrico e as Industrias?\n",
    "\n",
    "### 2. Há índicios de existir relação entre a taxa de imposto cobrada sobre o terreno e o valor dos terrenos?\n",
    "\n",
    "### 3. É possivel prever o valor da casa com as outras variaveis?\n"
   ]
  },
  {
   "cell_type": "markdown",
   "metadata": {},
   "source": [
    "## Modelo Estatistico"
   ]
  },
  {
   "cell_type": "markdown",
   "metadata": {},
   "source": [
    "### 1. Existe indicios de correlação entre o indice de Oxido de Nitrico e as Industrias?\n",
    "\n",
    "NOX -> dependente\n",
    "\n",
    "INDUS -> independente"
   ]
  },
  {
   "cell_type": "code",
   "execution_count": 7,
   "metadata": {},
   "outputs": [],
   "source": [
    "x= pd.DataFrame(data = df[\"INDUS\"])\n",
    "y = df[\"NOX\"]\n",
    "\n",
    "x_treino1,x_teste1,y_treino1,y_teste1 = model_selection.train_test_split(x,y,test_size=.4,random_state=1)"
   ]
  },
  {
   "cell_type": "code",
   "execution_count": 8,
   "metadata": {},
   "outputs": [
    {
     "data": {
      "text/plain": [
       "LinearRegression()"
      ]
     },
     "execution_count": 8,
     "metadata": {},
     "output_type": "execute_result"
    }
   ],
   "source": [
    "model1 = linear_model.LinearRegression()\n",
    "model1.fit(x_treino1,y_treino1)"
   ]
  },
  {
   "cell_type": "code",
   "execution_count": 9,
   "metadata": {
    "scrolled": true
   },
   "outputs": [
    {
     "name": "stdout",
     "output_type": "stream",
     "text": [
      "0.5782165624879906\n"
     ]
    }
   ],
   "source": [
    "print(model1.score(x_treino1,y_treino1))"
   ]
  },
  {
   "cell_type": "markdown",
   "metadata": {},
   "source": [
    "### 2. Há indicios de existir relação entre a taxa cobrada sobre o terreno e o valor dos terrenos?\n",
    "\n",
    "TAX -> dependente\n",
    "\n",
    "MEDV -> independente"
   ]
  },
  {
   "cell_type": "code",
   "execution_count": 10,
   "metadata": {},
   "outputs": [],
   "source": [
    "x = pd.DataFrame(data = df[\"MEDV\"])\n",
    "y = df[\"TAX\"]\n",
    "\n",
    "x_treino2,x_teste2,y_treino2,y_teste2 = model_selection.train_test_split(x,y,test_size=.4,random_state=1)"
   ]
  },
  {
   "cell_type": "code",
   "execution_count": 11,
   "metadata": {},
   "outputs": [
    {
     "data": {
      "text/plain": [
       "LinearRegression()"
      ]
     },
     "execution_count": 11,
     "metadata": {},
     "output_type": "execute_result"
    }
   ],
   "source": [
    "model2 = linear_model.LinearRegression()\n",
    "model2.fit(x_treino2,y_treino2)"
   ]
  },
  {
   "cell_type": "code",
   "execution_count": 12,
   "metadata": {},
   "outputs": [
    {
     "name": "stdout",
     "output_type": "stream",
     "text": [
      "0.20342861999687656\n"
     ]
    }
   ],
   "source": [
    "print(model2.score(x_treino2,y_treino2))"
   ]
  },
  {
   "cell_type": "markdown",
   "metadata": {},
   "source": [
    "### 3. É possivel prever o valor da casa com as outras variaveis?\n",
    "\n",
    "Valor do imovel -> dependente\n",
    "\n",
    "Outras variaveis -> independentes"
   ]
  },
  {
   "cell_type": "code",
   "execution_count": 13,
   "metadata": {},
   "outputs": [],
   "source": [
    "x = df.drop('MEDV',axis=1)\n",
    "y = df[\"MEDV\"]\n",
    "\n",
    "x_treino3,x_teste3,y_treino3,y_teste3 = model_selection.train_test_split(x,y,test_size=.4,random_state=1)"
   ]
  },
  {
   "cell_type": "code",
   "execution_count": 14,
   "metadata": {},
   "outputs": [
    {
     "data": {
      "text/plain": [
       "LinearRegression()"
      ]
     },
     "execution_count": 14,
     "metadata": {},
     "output_type": "execute_result"
    }
   ],
   "source": [
    "model3 = linear_model.LinearRegression()\n",
    "model3.fit(x_teste3,y_teste3)"
   ]
  },
  {
   "cell_type": "code",
   "execution_count": 15,
   "metadata": {},
   "outputs": [
    {
     "name": "stdout",
     "output_type": "stream",
     "text": [
      "0.6888198464951453\n"
     ]
    }
   ],
   "source": [
    "print(model3.score(x_teste3,y_teste3))"
   ]
  },
  {
   "cell_type": "code",
   "execution_count": 16,
   "metadata": {},
   "outputs": [
    {
     "name": "stdout",
     "output_type": "stream",
     "text": [
      "41.730394840658136\n"
     ]
    }
   ],
   "source": [
    "print(model3.intercept_)"
   ]
  },
  {
   "cell_type": "code",
   "execution_count": 17,
   "metadata": {},
   "outputs": [
    {
     "name": "stdout",
     "output_type": "stream",
     "text": [
      "[-1.36374717e-01  7.53621412e-02  9.25808158e-02  2.26449899e+00\n",
      " -2.36969808e+01  3.31223149e+00 -7.12107141e-03 -1.75055117e+00\n",
      "  2.53227515e-01 -1.51515786e-02 -7.80381708e-01  5.54799834e-03\n",
      " -3.85583506e-01]\n"
     ]
    }
   ],
   "source": [
    "print(model3.coef_)"
   ]
  }
 ],
 "metadata": {
  "kernelspec": {
   "display_name": "Python 3",
   "language": "python",
   "name": "python3"
  },
  "language_info": {
   "codemirror_mode": {
    "name": "ipython",
    "version": 3
   },
   "file_extension": ".py",
   "mimetype": "text/x-python",
   "name": "python",
   "nbconvert_exporter": "python",
   "pygments_lexer": "ipython3",
   "version": "3.8.5"
  }
 },
 "nbformat": 4,
 "nbformat_minor": 4
}
